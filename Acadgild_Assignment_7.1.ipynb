{
 "cells": [
  {
   "cell_type": "markdown",
   "metadata": {},
   "source": [
    "## Write a function to find the moving average over a window.\n",
    "\n",
    "1. Calculate the moving average\n",
    "2. Create parts of windows display\n",
    "3. Display the moving average in a window"
   ]
  },
  {
   "cell_type": "code",
   "execution_count": 1,
   "metadata": {},
   "outputs": [],
   "source": [
    "import numpy as np # note technically we do not need numpy for this excercise sum() works on lists as well"
   ]
  },
  {
   "cell_type": "code",
   "execution_count": 2,
   "metadata": {},
   "outputs": [],
   "source": [
    "def main():\n",
    "    test_list = [3, 5, 7, 2, 8, 10, 11, 65, 72, 81, 99, 100, 150]\n",
    "    window = 3\n",
    "    number_of_averages = len(test_list) - window + 1\n",
    "    moving_average_outputs, moving_average_inputs = get_average_components(test_list, number_of_averages, window)\n",
    "    display_output(moving_average_outputs, moving_average_inputs, test_list, window)\n",
    "\n",
    "def get_average_components(values_list, number_of_averages, window):\n",
    "    max_count = number_of_averages\n",
    "    count = 0\n",
    "    average_input_list = []\n",
    "    moving_average_list = []\n",
    "    moving_average_inputs_list = []\n",
    "    increment = window\n",
    "    while count < max_count:\n",
    "        for index in range(count, count + increment, 1):\n",
    "            average_input_list.append(values_list[index])\n",
    "        # calculate moving average\n",
    "        moving_average = calculate_moving_average(average_input_list, window)\n",
    "        moving_average_list.append(moving_average)\n",
    "        # add current inputs into an array\n",
    "        moving_average_inputs_list.append(average_input_list)\n",
    "        count += 1\n",
    "        average_input_list = []\n",
    "    return moving_average_list, moving_average_inputs_list\n",
    "\n",
    "def calculate_moving_average(values_list, window): return np.sum(values_list) / window\n",
    "\n",
    "def print_header(moving_averages):\n",
    "    header_start = 'i'\n",
    "    header_string = ''\n",
    "    end = len(moving_averages) + 1\n",
    "    header_values_list = ['{}'.format(number) for number in range(1, end)]\n",
    "    header_values_list.insert(0, header_start)\n",
    "    for item in header_values_list:\n",
    "        header_string += '{:^4}'.format(item)\n",
    "    print(header_string)\n",
    "\n",
    "def print_separator_row(moving_averages):\n",
    "    sep_string =''\n",
    "    sep_start = '====='\n",
    "    sep = '=='\n",
    "    end = len(moving_averages) + 1\n",
    "    sep_list = ['{}'.format(sep) for number in range(1, end)]\n",
    "    sep_list.insert(0, sep_start)\n",
    "    for item in sep_list:\n",
    "        sep_string += '{:^4}'.format(item)\n",
    "    print(sep_string)\n",
    "    \n",
    "def print_input_row(moving_averages, moving_average_inputs):\n",
    "    input_start = 'Input'\n",
    "    input_string = ''\n",
    "    inputs_list = ['{}'.format(a_input) for a_input in moving_average_inputs]\n",
    "    inputs_list.insert(0, input_start)\n",
    "    for item in inputs_list:\n",
    "        input_string += '{:^4}'.format(item)\n",
    "    print(input_string)\n",
    "\n",
    "def create_average_row(moving_average, moving_average_inputs, window):\n",
    "    row_string = ''\n",
    "    equation_end_string = ''\n",
    "    equation_string = ''\n",
    "    # start the row\n",
    "    row_string += '{} = ('.format(round(moving_average, 1))\n",
    "    # create the end to the equation\n",
    "    equation_end_string = ')/{}'.format(window)\n",
    "    equation_string = '+'.join(str(ave) for ave in moving_average_inputs)\n",
    "    row_string += equation_string + equation_end_string\n",
    "    return row_string\n",
    "    \n",
    "def print_average_rows(moving_averages, moving_average_inputs, window):\n",
    "    row_string = ''\n",
    "    space = '  '\n",
    "    end = len(moving_averages) + 1\n",
    "    row_starts_list = ['y{}'.format(number) for number in range(1, end)]\n",
    "    for index, item in enumerate(row_starts_list):\n",
    "        row_string += '{:^4}'.format(item)\n",
    "        row_string += space * (index + 1)\n",
    "        equation = create_average_row(moving_averages[index], moving_average_inputs[index], window)\n",
    "        row_string += '{:^4}'.format(equation)\n",
    "        print(row_string)\n",
    "        row_string = ''\n",
    "    \n",
    "def display_output(moving_averages, moving_average_inputs, original_list, window):\n",
    "    print_header(moving_averages)\n",
    "    print_separator_row(moving_averages)\n",
    "    print_input_row(moving_averages, original_list)\n",
    "    print_average_rows(moving_averages, moving_average_inputs, window)"
   ]
  },
  {
   "cell_type": "code",
   "execution_count": 3,
   "metadata": {},
   "outputs": [
    {
     "name": "stdout",
     "output_type": "stream",
     "text": [
      " i   1   2   3   4   5   6   7   8   9   10  11 \n",
      "===== ==  ==  ==  ==  ==  ==  ==  ==  ==  ==  == \n",
      "Input 3   5   7   2   8   10  11  65  72  81  99 100 150 \n",
      " y1   5.0 = (3+5+7)/3\n",
      " y2     4.7 = (5+7+2)/3\n",
      " y3       5.7 = (7+2+8)/3\n",
      " y4         6.7 = (2+8+10)/3\n",
      " y5           9.7 = (8+10+11)/3\n",
      " y6             28.7 = (10+11+65)/3\n",
      " y7               49.3 = (11+65+72)/3\n",
      " y8                 72.7 = (65+72+81)/3\n",
      " y9                   84.0 = (72+81+99)/3\n",
      "y10                     93.3 = (81+99+100)/3\n",
      "y11                       116.3 = (99+100+150)/3\n"
     ]
    }
   ],
   "source": [
    "if __name__ == \"__main__\":\n",
    "    main()"
   ]
  }
 ],
 "metadata": {
  "kernelspec": {
   "display_name": "Python 3",
   "language": "python",
   "name": "python3"
  },
  "language_info": {
   "codemirror_mode": {
    "name": "ipython",
    "version": 3
   },
   "file_extension": ".py",
   "mimetype": "text/x-python",
   "name": "python",
   "nbconvert_exporter": "python",
   "pygments_lexer": "ipython3",
   "version": "3.6.6"
  }
 },
 "nbformat": 4,
 "nbformat_minor": 2
}
